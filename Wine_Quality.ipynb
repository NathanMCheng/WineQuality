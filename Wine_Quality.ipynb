{
 "cells": [
  {
   "cell_type": "code",
   "execution_count": 1,
   "metadata": {
    "_cell_guid": "79c7e3d0-c299-4dcb-8224-4455121ee9b0",
    "_uuid": "d629ff2d2480ee46fbb7e2d37f6b5fab8052498a"
   },
   "outputs": [],
   "source": [
    "# Import various libraries for analysis\n",
    "import numpy as np \n",
    "import pandas as pd \n",
    "import matplotlib.pyplot as plt \n",
    "import seaborn as sns\n",
    "from sklearn.model_selection import train_test_split, GridSearchCV, cross_val_score\n",
    "from sklearn.metrics import confusion_matrix,accuracy_score\n",
    "from sklearn.decomposition import PCA,KernelPCA\n",
    "from sklearn.linear_model import LogisticRegression\n",
    "from sklearn.tree import DecisionTreeClassifier\n",
    "from sklearn.naive_bayes import GaussianNB\n",
    "from sklearn.ensemble import RandomForestClassifier,GradientBoostingClassifier\n",
    "from sklearn.svm import SVC\n",
    "from sklearn.neighbors import KNeighborsClassifier\n",
    "from sklearn.pipeline import Pipeline\n",
    "from sklearn.preprocessing import LabelEncoder, StandardScaler\n",
    "from sklearn.model_selection import cross_validate\n",
    "from sklearn.discriminant_analysis import LinearDiscriminantAnalysis as LDA\n",
    "from sklearn.svm import SVC\n",
    "color = sns.color_palette()\n",
    "data_red = pd.read_csv('../input/winequality-red.csv',delimiter=';')\n",
    "data_white = pd.read_csv('../input/winequality-white.csv',delimiter=';')"
   ]
  },
  {
   "cell_type": "code",
   "execution_count": 2,
   "metadata": {},
   "outputs": [
    {
     "data": {
      "text/html": [
       "<div>\n",
       "<style scoped>\n",
       "    .dataframe tbody tr th:only-of-type {\n",
       "        vertical-align: middle;\n",
       "    }\n",
       "\n",
       "    .dataframe tbody tr th {\n",
       "        vertical-align: top;\n",
       "    }\n",
       "\n",
       "    .dataframe thead th {\n",
       "        text-align: right;\n",
       "    }\n",
       "</style>\n",
       "<table border=\"1\" class=\"dataframe\">\n",
       "  <thead>\n",
       "    <tr style=\"text-align: right;\">\n",
       "      <th></th>\n",
       "      <th>fixed acidity</th>\n",
       "      <th>volatile acidity</th>\n",
       "      <th>citric acid</th>\n",
       "      <th>residual sugar</th>\n",
       "      <th>chlorides</th>\n",
       "      <th>free sulfur dioxide</th>\n",
       "      <th>total sulfur dioxide</th>\n",
       "      <th>density</th>\n",
       "      <th>pH</th>\n",
       "      <th>sulphates</th>\n",
       "      <th>alcohol</th>\n",
       "      <th>quality</th>\n",
       "    </tr>\n",
       "  </thead>\n",
       "  <tbody>\n",
       "    <tr>\n",
       "      <th>0</th>\n",
       "      <td>7.0</td>\n",
       "      <td>0.27</td>\n",
       "      <td>0.36</td>\n",
       "      <td>20.7</td>\n",
       "      <td>0.045</td>\n",
       "      <td>45.0</td>\n",
       "      <td>170.0</td>\n",
       "      <td>1.0010</td>\n",
       "      <td>3.00</td>\n",
       "      <td>0.45</td>\n",
       "      <td>8.8</td>\n",
       "      <td>6</td>\n",
       "    </tr>\n",
       "    <tr>\n",
       "      <th>1</th>\n",
       "      <td>6.3</td>\n",
       "      <td>0.30</td>\n",
       "      <td>0.34</td>\n",
       "      <td>1.6</td>\n",
       "      <td>0.049</td>\n",
       "      <td>14.0</td>\n",
       "      <td>132.0</td>\n",
       "      <td>0.9940</td>\n",
       "      <td>3.30</td>\n",
       "      <td>0.49</td>\n",
       "      <td>9.5</td>\n",
       "      <td>6</td>\n",
       "    </tr>\n",
       "    <tr>\n",
       "      <th>2</th>\n",
       "      <td>8.1</td>\n",
       "      <td>0.28</td>\n",
       "      <td>0.40</td>\n",
       "      <td>6.9</td>\n",
       "      <td>0.050</td>\n",
       "      <td>30.0</td>\n",
       "      <td>97.0</td>\n",
       "      <td>0.9951</td>\n",
       "      <td>3.26</td>\n",
       "      <td>0.44</td>\n",
       "      <td>10.1</td>\n",
       "      <td>6</td>\n",
       "    </tr>\n",
       "    <tr>\n",
       "      <th>3</th>\n",
       "      <td>7.2</td>\n",
       "      <td>0.23</td>\n",
       "      <td>0.32</td>\n",
       "      <td>8.5</td>\n",
       "      <td>0.058</td>\n",
       "      <td>47.0</td>\n",
       "      <td>186.0</td>\n",
       "      <td>0.9956</td>\n",
       "      <td>3.19</td>\n",
       "      <td>0.40</td>\n",
       "      <td>9.9</td>\n",
       "      <td>6</td>\n",
       "    </tr>\n",
       "    <tr>\n",
       "      <th>4</th>\n",
       "      <td>7.2</td>\n",
       "      <td>0.23</td>\n",
       "      <td>0.32</td>\n",
       "      <td>8.5</td>\n",
       "      <td>0.058</td>\n",
       "      <td>47.0</td>\n",
       "      <td>186.0</td>\n",
       "      <td>0.9956</td>\n",
       "      <td>3.19</td>\n",
       "      <td>0.40</td>\n",
       "      <td>9.9</td>\n",
       "      <td>6</td>\n",
       "    </tr>\n",
       "  </tbody>\n",
       "</table>\n",
       "</div>"
      ],
      "text/plain": [
       "   fixed acidity  volatile acidity   ...     alcohol  quality\n",
       "0            7.0              0.27   ...         8.8        6\n",
       "1            6.3              0.30   ...         9.5        6\n",
       "2            8.1              0.28   ...        10.1        6\n",
       "3            7.2              0.23   ...         9.9        6\n",
       "4            7.2              0.23   ...         9.9        6\n",
       "\n",
       "[5 rows x 12 columns]"
      ]
     },
     "execution_count": 2,
     "metadata": {},
     "output_type": "execute_result"
    }
   ],
   "source": [
    "# Display data\n",
    "data_white.head(5)"
   ]
  },
  {
   "cell_type": "code",
   "execution_count": 3,
   "metadata": {},
   "outputs": [
    {
     "data": {
      "image/png": "[encoded data removed]",
      "text/plain": [
       "<Figure size 432x288 with 2 Axes>"
      ]
     },
     "metadata": {
      "needs_background": "light"
     },
     "output_type": "display_data"
    }
   ],
   "source": [
    "# Plot the distribution of quality\n",
    "plt.subplot(2,1,1)\n",
    "plt.hist(data_white['quality'],bins=[0,1,2,3,4,5,6,7,8,9,10]);\n",
    "plt.xlabel('Quality')\n",
    "plt.ylabel('Count')\n",
    "plt.title('White Wine')\n",
    "\n",
    "plt.subplot(2,1,2)\n",
    "plt.hist(data_red['quality'],bins=[0,1,2,3,4,5,6,7,8,9,10]);\n",
    "plt.xlabel('Quality')\n",
    "plt.ylabel('Count')\n",
    "plt.title('Red Wine')\n",
    "\n",
    "plt.tight_layout()\n",
    "plt.show()"
   ]
  },
  {
   "cell_type": "code",
   "execution_count": 4,
   "metadata": {},
   "outputs": [],
   "source": [
    "# As seen above, the midpoint fo the quality lies between 6 and 7\n",
    "# Make a bianry classification of the Quality to maximize the model effectiveness\n",
    "\n",
    "score = []\n",
    "for i in data_white['quality']:\n",
    "    if i >= 0 and i <= 6:\n",
    "        score.append('1')\n",
    "    elif i >= 6 and i <= 10:\n",
    "        score.append('2')\n",
    "data_white['score'] = score\n",
    "\n",
    "data_white.groupby('score').size()\n",
    "\n",
    "score = []\n",
    "for i in data_red['quality']:\n",
    "    if i >= 0 and i <= 6:\n",
    "        score.append('1')\n",
    "    elif i >= 6 and i <= 10:\n",
    "        score.append('2')\n",
    "data_red['score'] = score"
   ]
  },
  {
   "cell_type": "code",
   "execution_count": 5,
   "metadata": {},
   "outputs": [],
   "source": [
    "# Red data\n",
    "x_r = data_red.iloc[:, 0:-2].values\n",
    "y_r = data_red.iloc[:, 12].values\n",
    "\n",
    "# White data\n",
    "x_w = data_white.iloc[:, 0:-2].values\n",
    "y_w = data_white.iloc[:, 12].values"
   ]
  },
  {
   "cell_type": "code",
   "execution_count": 6,
   "metadata": {},
   "outputs": [
    {
     "data": {
      "image/png": "[encoded data removed]",
      "text/plain": [
       "<Figure size 432x288 with 2 Axes>"
      ]
     },
     "metadata": {
      "needs_background": "light"
     },
     "output_type": "display_data"
    }
   ],
   "source": [
    "# Rescale the data norm(0,1)\n",
    "sc_x=StandardScaler() \n",
    "x_r = sc_x.fit_transform(x_r)\n",
    "x_w = sc_x.fit_transform(x_w)\n",
    "\n",
    "# PCA decomposition to determine the important features\n",
    "pca=PCA()\n",
    "x_w_pca = pca.fit_transform(x_w)\n",
    "\n",
    "# Display the cumulative percentage of variance explained by the PCA components\n",
    "plt.subplot(2,1,1)\n",
    "plt.plot(np.cumsum(pca.explained_variance_ratio_), 'ro-')\n",
    "plt.grid()\n",
    "plt.xlabel('Variable')\n",
    "plt.ylabel('Variance')\n",
    "plt.title('White Wine')\n",
    "\n",
    "# PCA on the red wine\n",
    "x_r_pca = pca.fit_transform(x_r)\n",
    "\n",
    "# Display the red\n",
    "plt.subplot(2,1,2)\n",
    "plt.plot(np.cumsum(pca.explained_variance_ratio_), 'ro-')\n",
    "plt.grid()\n",
    "plt.xlabel('Variable')\n",
    "plt.ylabel('Variance')\n",
    "plt.title('Red Wine')\n",
    "\n",
    "plt.tight_layout()\n",
    "plt.show()"
   ]
  },
  {
   "cell_type": "code",
   "execution_count": 7,
   "metadata": {},
   "outputs": [],
   "source": [
    "# The last component contributes negligably to the variance\n",
    "pca_w_new = PCA(n_components=9)\n",
    "x_w_new = pca_w_new.fit_transform(x_w)\n",
    "pca_r_new = PCA(n_components=9)\n",
    "x_r_new = pca_r_new.fit_transform(x_r)"
   ]
  },
  {
   "cell_type": "code",
   "execution_count": 8,
   "metadata": {},
   "outputs": [],
   "source": [
    "# Split the data into training and test sets based on the PCA transformation\n",
    "X_w_train, X_w_test, y_w_train, y_w_test = train_test_split(x_w_new, y_w, test_size = 0.2, random_state = 1)\n",
    "X_r_train, X_r_test, y_r_train, y_r_test = train_test_split(x_r_new, y_r, test_size = 0.2, random_state = 1)"
   ]
  },
  {
   "cell_type": "code",
   "execution_count": 9,
   "metadata": {},
   "outputs": [],
   "source": [
    "# Define classifiers for different models for the red and white wines\n",
    "def classifier_w(model):\n",
    "    \n",
    "    # Fit the model\n",
    "    model.fit(X_w_train,y_w_train)\n",
    "    \n",
    "    # Predict on the cross-validation test set\n",
    "    y_pred=model.predict(X_w_test)\n",
    "    \n",
    "    # Score the model\n",
    "    score=accuracy_score(y_pred,y_w_test)\n",
    "    return score*100\n",
    "\n",
    "def classifier_r(model):\n",
    "    \n",
    "    # Fit the model\n",
    "    model.fit(X_r_train,y_r_train)\n",
    "    \n",
    "    # Predict on the cross-validation test set\n",
    "    y_pred=model.predict(X_r_test)\n",
    "    \n",
    "    # Score the model\n",
    "    score=accuracy_score(y_pred,y_r_test)\n",
    "    return score*100"
   ]
  },
  {
   "cell_type": "code",
   "execution_count": 10,
   "metadata": {},
   "outputs": [
    {
     "name": "stdout",
     "output_type": "stream",
     "text": [
      "Red SVC Score:  90.0\n",
      "Red KNN Score:  91.5625\n",
      "Red RF Score:  92.5\n",
      "Red GNB Score:  87.1875\n",
      "White SVC Score:  81.42857142857143\n",
      "White KNN Score:  80.20408163265306\n",
      "White RF Score:  88.36734693877551\n",
      "White GNB Score:  78.6734693877551\n"
     ]
    }
   ],
   "source": [
    "# Test various models for accuracy\n",
    "print('Red SVC Score: ', classifier_r(SVC(gamma = 'auto')))\n",
    "print('Red KNN Score: ', classifier_r(KNeighborsClassifier(n_neighbors=100)))\n",
    "print('Red RF Score: ', classifier_r(RandomForestClassifier(n_estimators=100)))\n",
    "print('Red GNB Score: ', classifier_r(GaussianNB()))\n",
    "\n",
    "print('White SVC Score: ', classifier_w(SVC(gamma = 'auto')))\n",
    "print('White KNN Score: ', classifier_w(KNeighborsClassifier(n_neighbors=100)))\n",
    "print('White RF Score: ', classifier_w(RandomForestClassifier(n_estimators=100)))\n",
    "print('White GNB Score: ', classifier_w(GaussianNB()))"
   ]
  },
  {
   "cell_type": "code",
   "execution_count": 11,
   "metadata": {},
   "outputs": [],
   "source": [
    "# The Random Forest (RF) Classifier is the best in all cases\n",
    "\n",
    "# Make the RF Classifiers\n",
    "forest_r = RandomForestClassifier(n_estimators=250)\n",
    "forest_w = RandomForestClassifier(n_estimators=250)\n",
    "rf_r = forest_r.fit(X_r_train,y_r_train)\n",
    "rf_w = forest_w.fit(X_w_train,y_w_train)"
   ]
  },
  {
   "cell_type": "code",
   "execution_count": 12,
   "metadata": {},
   "outputs": [
    {
     "data": {
      "image/png": "[encoded data removed]",
      "text/plain": [
       "<Figure size 432x288 with 2 Axes>"
      ]
     },
     "metadata": {
      "needs_background": "light"
     },
     "output_type": "display_data"
    }
   ],
   "source": [
    "# Standard error for the trees in the classifiers\n",
    "std_r = np.std([tree.feature_importances_ for tree in forest_r.estimators_],\n",
    "             axis=0)\n",
    "std_w = np.std([tree.feature_importances_ for tree in forest_w.estimators_],\n",
    "             axis=0)\n",
    "\n",
    "# Get the importance of each feature\n",
    "importance_r = rf_r.feature_importances_\n",
    "importance_w = rf_w.feature_importances_\n",
    "\n",
    "# Sort the features by importance\n",
    "indices_r = np.argsort(importance_r)[::-1]\n",
    "indices_w = np.argsort(importance_w)[::-1]\n",
    "\n",
    "# Show the PCA Feature importance\n",
    "plt.subplot(2,1,1)\n",
    "plt.bar(range(X_r_train.shape[1]),importance_r[indices_r],yerr = std_r)\n",
    "plt.xticks(np.arange(10))\n",
    "plt.xlabel('Features')\n",
    "plt.ylabel('Importance')\n",
    "\n",
    "plt.subplot(2,1,2)\n",
    "plt.bar(range(X_w_train.shape[1]),importance_w[indices_w],yerr = std_r)\n",
    "plt.xticks(np.arange(10))\n",
    "plt.xlabel('Features')\n",
    "plt.ylabel('Importance')\n",
    "plt.tight_layout()"
   ]
  },
  {
   "cell_type": "code",
   "execution_count": 13,
   "metadata": {},
   "outputs": [
    {
     "data": {
      "image/png": "[encoded data removed]",
      "text/plain": [
       "<Figure size 432x864 with 4 Axes>"
      ]
     },
     "metadata": {
      "needs_background": "light"
     },
     "output_type": "display_data"
    }
   ],
   "source": [
    "# Decode what the features are from the PCA\n",
    "params_w = pd.DataFrame(pca_w_new.components_,columns = data_red.iloc[:,0:11].columns)\n",
    "params_r = pd.DataFrame(pca_r_new.components_,columns = data_red.iloc[:,0:11].columns)\n",
    "\n",
    "# Take the absolute value since the component sign is irrelevant\n",
    "params_w = params_w\n",
    "params_r = params_r\n",
    "\n",
    "# Plot heatmaps of the parameters in descending order of importance\n",
    "f, axes = plt.subplots(2, 1,figsize=(6,12))\n",
    "sns.heatmap(data = params_w, ax=axes[0], cmap = \"coolwarm\").set_title('White Wine')\n",
    "sns.heatmap(data= params_r, ax=axes[1], cmap = \"coolwarm\").set_title('Red Wine')\n",
    "plt.tight_layout()"
   ]
  }
 ],
 "metadata": {
  "kernelspec": {
   "display_name": "Python 3",
   "language": "python",
   "name": "python3"
  },
  "language_info": {
   "codemirror_mode": {
    "name": "ipython",
    "version": 3
   },
   "file_extension": ".py",
   "mimetype": "text/x-python",
   "name": "python",
   "nbconvert_exporter": "python",
   "pygments_lexer": "ipython3",
   "version": "3.6.6"
  }
 },
 "nbformat": 4,
 "nbformat_minor": 1
}
